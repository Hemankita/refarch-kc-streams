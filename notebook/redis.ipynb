{
 "cells": [
  {
   "cell_type": "markdown",
   "metadata": {},
   "source": [
    "# refarch-kc-streams "
   ]
  },
  {
   "cell_type": "code",
   "execution_count": 3,
   "metadata": {},
   "outputs": [
    {
     "name": "stdout",
     "output_type": "stream",
     "text": [
      "\u001b[31m  Could not find a version that satisfies the requirement json (from versions: )\u001b[0m\n",
      "\u001b[31mNo matching distribution found for json\u001b[0m\n"
     ]
    }
   ],
   "source": [
    "!pip -q install json  # this worked before\n",
    "## For redis Access\n",
    "!pip -q install redis\n",
    "import redis\n",
    "import json\n",
    "import time \n",
    "import pandas as pd\n",
    "import sys\n",
    "sys.path.append(\"../streams/creds\")\n",
    "from creds import credential"
   ]
  },
  {
   "cell_type": "code",
   "execution_count": 72,
   "metadata": {},
   "outputs": [
    {
     "data": {
      "text/plain": [
       "b'[{\"id\": \"Reef1\", \"oTemp\": 18.3}, {\"id\": \"Reef2\", \"oTemp\": 18.2}]'"
      ]
     },
     "execution_count": 72,
     "metadata": {},
     "output_type": "execute_result"
    }
   ],
   "source": [
    "f.raw(\"/score/bluewater\")"
   ]
  },
  {
   "cell_type": "code",
   "execution_count": 41,
   "metadata": {},
   "outputs": [],
   "source": [
    "class FetchRedis(object):\n",
    "    \"\"\" Get current price of from Redis\"\"\"\n",
    "\n",
    "    def __init__(self):\n",
    "        # put this in the config file....\n",
    "        connect = credential.redisCredential\n",
    "        self.red = redis.Redis(host=connect['host'],port=connect['port'],password=connect['password'])\n",
    "\n",
    "    def raw(self, key):\n",
    "        return self.red.get(key)\n",
    "    \n",
    "    def currentDict(self, key):\n",
    "        \"\"\"\n",
    "        :return the raw object recieved\n",
    "        \"\"\"\n",
    "        res = str(self.red.get(key), 'utf-8')\n",
    "        return(json.loads(res))\n",
    "      \n",
    "    def fetchValue(self, key):\n",
    "        dict = self.currentDict(key)\n",
    "        return(dict)\n",
    "    \n",
    "    def sendValue(self, key, value):\n",
    "        return(self.red.set(key, value))\n",
    "        \n",
    "        \n",
    "f = FetchRedis()"
   ]
  },
  {
   "cell_type": "code",
   "execution_count": 45,
   "metadata": {},
   "outputs": [
    {
     "data": {
      "text/plain": [
       "True"
      ]
     },
     "execution_count": 45,
     "metadata": {},
     "output_type": "execute_result"
    }
   ],
   "source": [
    "f.sendValue(\"/score/bluewater\",\"{'id': 'Reefxxx', 'oTemp': 18.3}\")"
   ]
  },
  {
   "cell_type": "code",
   "execution_count": 48,
   "metadata": {},
   "outputs": [
    {
     "data": {
      "text/plain": [
       "'\"{\\'id\\': \\'Reefxxx\\', \\'oTemp\\': 18.3}\"'"
      ]
     },
     "execution_count": 48,
     "metadata": {},
     "output_type": "execute_result"
    }
   ],
   "source": [
    "json.dumps(\"{'id': 'Reefxxx', 'oTemp': 18.3}\")"
   ]
  },
  {
   "cell_type": "code",
   "execution_count": 66,
   "metadata": {},
   "outputs": [
    {
     "data": {
      "text/plain": [
       "list"
      ]
     },
     "execution_count": 66,
     "metadata": {},
     "output_type": "execute_result"
    }
   ],
   "source": [
    "d = [{'id': 'Reef1', 'oTemp': 18.3},{'id': 'Reef2', 'oTemp': 18.2}]\n",
    "type(d)"
   ]
  },
  {
   "cell_type": "code",
   "execution_count": 67,
   "metadata": {},
   "outputs": [
    {
     "data": {
      "text/plain": [
       "True"
      ]
     },
     "execution_count": 67,
     "metadata": {},
     "output_type": "execute_result"
    }
   ],
   "source": [
    "f.sendValue(\"/score/bluewater\", json.dumps(d))"
   ]
  },
  {
   "cell_type": "code",
   "execution_count": 103,
   "metadata": {},
   "outputs": [
    {
     "name": "stdout",
     "output_type": "stream",
     "text": [
      "1000\n"
     ]
    }
   ],
   "source": [
    "data = f.fetchValue(\"/score/bluewater\")\n",
    "print(len(data))\n",
    "data[0]\n",
    "reef1 = [[ele['oTemp'],ele['amp']] for ele in data if ele['id']=='Reefer_0']"
   ]
  },
  {
   "cell_type": "code",
   "execution_count": 105,
   "metadata": {},
   "outputs": [
    {
     "data": {
      "text/plain": [
       "100"
      ]
     },
     "execution_count": 105,
     "metadata": {},
     "output_type": "execute_result"
    }
   ],
   "source": [
    "len(reef1)"
   ]
  },
  {
   "cell_type": "code",
   "execution_count": 74,
   "metadata": {},
   "outputs": [
    {
     "data": {
      "text/plain": [
       "{'host': 'sl-us-south-1-portal.22.dblayer.com',\n",
       " 'password': 'REXIEBHDEGTTBMYJ',\n",
       " 'port': 43926}"
      ]
     },
     "execution_count": 74,
     "metadata": {},
     "output_type": "execute_result"
    }
   ],
   "source": [
    "credential.redisCredential"
   ]
  },
  {
   "cell_type": "code",
   "execution_count": null,
   "metadata": {},
   "outputs": [],
   "source": []
  }
 ],
 "metadata": {
  "kernelspec": {
   "display_name": "Python 3",
   "language": "python",
   "name": "python3"
  },
  "language_info": {
   "codemirror_mode": {
    "name": "ipython",
    "version": 3
   },
   "file_extension": ".py",
   "mimetype": "text/x-python",
   "name": "python",
   "nbconvert_exporter": "python",
   "pygments_lexer": "ipython3",
   "version": "3.5.4"
  }
 },
 "nbformat": 4,
 "nbformat_minor": 1
}
