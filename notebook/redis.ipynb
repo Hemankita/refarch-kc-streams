{
 "cells": [
  {
   "cell_type": "markdown",
   "metadata": {},
   "source": [
    "# refarch-kc-streams "
   ]
  },
  {
   "cell_type": "markdown",
   "metadata": {},
   "source": [
    "# Base setup - you need to run this section......"
   ]
  },
  {
   "cell_type": "code",
   "execution_count": 1,
   "metadata": {},
   "outputs": [
    {
     "name": "stdout",
     "output_type": "stream",
     "text": [
      "\u001b[31m  Could not find a version that satisfies the requirement json (from versions: )\u001b[0m\r\n",
      "\u001b[31mNo matching distribution found for json\u001b[0m\r\n"
     ]
    }
   ],
   "source": [
    "!pip -q install json  # this worked before\n",
    "## For redis Access\n",
    "!pip -q install redis\n",
    "import redis\n",
    "import json\n",
    "import time \n",
    "import pandas as pd\n",
    "import sys\n",
    "sys.path.append(\"../streams/creds\")\n",
    "from creds import credential\n",
    "import time\n",
    "import numpy as np\n",
    "## setup fo plotting\n",
    "#%matplotlib\n",
    "import matplotlib.pyplot as plt\n",
    "#%matplotlib inline\n",
    "%matplotlib notebook\n",
    "import numpy as np"
   ]
  },
  {
   "cell_type": "code",
   "execution_count": 2,
   "metadata": {},
   "outputs": [],
   "source": [
    "# setup the class to read data \n",
    "\n",
    "class FetchRedis(object):\n",
    "    \"\"\" Get current price of from Redis\"\"\"\n",
    "\n",
    "    def __init__(self):\n",
    "        # put this in the config file....\n",
    "        connect = credential.redisCredential\n",
    "        self.red = redis.Redis(host=connect['host'],port=connect['port'],password=connect['password'])\n",
    "\n",
    "    def raw(self, key):\n",
    "        return self.red.get(key)\n",
    "    \n",
    "    def currentDict(self, key):\n",
    "        \"\"\"\n",
    "        :return the raw object recieved\n",
    "        \"\"\"\n",
    "        res = str(self.red.get(key), 'utf-8')\n",
    "        return(json.loads(res))\n",
    "      \n",
    "    def fetchValue(self, key):\n",
    "        dict = self.currentDict(key)\n",
    "        return(dict)\n",
    "    \n",
    "    def sendValue(self, key, value):\n",
    "        return(self.red.set(key, value))\n",
    "        \n",
    "        \n",
    "f = FetchRedis()"
   ]
  },
  {
   "cell_type": "markdown",
   "metadata": {},
   "source": [
    "# /score/bluewater - graphing data"
   ]
  },
  {
   "cell_type": "code",
   "execution_count": null,
   "metadata": {},
   "outputs": [],
   "source": [
    "# f.sendValue(\"/score/bluewater\",\"{'id': 'Reefxxx', 'oTemp': 18.3}\")"
   ]
  },
  {
   "cell_type": "code",
   "execution_count": null,
   "metadata": {},
   "outputs": [],
   "source": [
    "# f.sendValue(\"/score/bluewater\", json.dumps(d))"
   ]
  },
  {
   "cell_type": "code",
   "execution_count": null,
   "metadata": {},
   "outputs": [],
   "source": [
    "data = f.fetchValue(\"/score/bluewater\")\n",
    "print(\"len of full data\", len(data))\n",
    "reef1 = [[ele['oTemp'],ele['amp']] for ele in data if ele['id']=='Reefer_0']\n",
    "print(\"len of reef1,\", len(reef1))"
   ]
  },
  {
   "cell_type": "markdown",
   "metadata": {},
   "source": [
    "# basic plotting \n",
    "- draw simple graph\n",
    "- two plots on same graph. \n",
    "- updating loop"
   ]
  },
  {
   "cell_type": "code",
   "execution_count": null,
   "metadata": {},
   "outputs": [],
   "source": [
    "# does it work. \n",
    "x = np.linspace(0,10,100)\n",
    "fig = plt.figure()\n",
    "plt.plot(x, np.sin(x), '-')\n",
    "plt.plot(x, np.cos(x), '--')\n"
   ]
  },
  {
   "cell_type": "markdown",
   "metadata": {},
   "source": [
    "## Fetch Data and Plot\n",
    "- Fetch data plot temp + amp\n",
    "- Linear regression of temp/amp to see where it's trending"
   ]
  },
  {
   "cell_type": "code",
   "execution_count": null,
   "metadata": {},
   "outputs": [],
   "source": [
    "data = f.fetchValue(\"/score/bluewater\")\n",
    "%matplotlib notebook\n",
    "oTemp = [ele['oTemp'] for ele in data if ele['id']=='Reefer_0']\n",
    "amp= [ele['amp'] for ele in data if ele['id']=='Reefer_0']\n",
    "tempC =  [ele['tempC'] for ele in data if ele['id']=='Reefer_0']\n",
    "plt . plot ( amp [ : ] )\n",
    "plt . plot ( oTemp [ : ] )\n",
    "plt . plot ( tempC [ : ] )\n",
    "plt.title(\"outside C + amp + inside C\")\n",
    "plt . show ( )"
   ]
  },
  {
   "cell_type": "code",
   "execution_count": null,
   "metadata": {},
   "outputs": [],
   "source": [
    "x = [x for x in range(len(oTemp))]\n",
    "y = oTemp\n",
    "fit = np.polyfit(x,y,1)\n",
    "fit_fn = np.poly1d(fit) \n",
    "# fit_fn is now a function which takes in x and returns an estimate for y\n",
    "fig = plt.figure()\n",
    "plt.plot(x,y, 'yo', x, fit_fn(x), '--k')\n"
   ]
  },
  {
   "cell_type": "code",
   "execution_count": null,
   "metadata": {},
   "outputs": [],
   "source": [
    "x = [x for x in range(len(tempC))]\n",
    "y = tempC\n",
    "fit = np.polyfit(x,y,1)\n",
    "fit_fn = np.poly1d(fit) \n",
    "# fit_fn is now a function which takes in x and returns an estimate for y\n",
    "fig = plt.figure()\n",
    "plt.plot(x,y, 'yo', x, fit_fn(x), '--k')"
   ]
  },
  {
   "cell_type": "code",
   "execution_count": null,
   "metadata": {},
   "outputs": [],
   "source": [
    "x = [x for x in range(len(oTemp))]\n",
    "y = amp\n",
    "fit = np.polyfit(x,y,1)\n",
    "fit_fn = np.poly1d(fit) \n",
    "# fit_fn is now a function which takes in x and returns an estimate for y\n",
    "fig = plt.figure()\n",
    "plt.plot(x,y, 'yo', x, fit_fn(x), '--k')"
   ]
  },
  {
   "cell_type": "code",
   "execution_count": null,
   "metadata": {},
   "outputs": [],
   "source": [
    "data = f.fetchValue(\"/score/bluewater\")\n",
    "%matplotlib notebook\n",
    "oTemp = [ele['oTemp'] for ele in data if ele['id']=='Reefer_0']\n",
    "amp= [ele['amp'] for ele in data if ele['id']=='Reefer_0']\n",
    "tempC= [ele['tempC'] for ele in data if ele['id']=='Reefer_0']\n",
    "plt . plot ( amp [ : ] )\n",
    "plt . plot ( oTemp [ : ] )\n",
    "plt . plot ( tempC [ : ] )\n",
    "plt.title(\"temp + amp\")\n",
    "plt . show ( )\n",
    "\n",
    "x = [x for x in range(len(oTemp))]\n",
    "fitO = np.polyfit(x,oTemp,1)\n",
    "fit_fnO = np.poly1d(fitO) \n",
    "fitC = np.polyfit(x,tempC,1)\n",
    "fit_fnC = np.poly1d(fitC) \n",
    "fitA = np.polyfit(x,amp,1)\n",
    "fit_fnA = np.poly1d(fitA) \n",
    "# fit_fn is now a function which takes in x and returns an estimate for y\n",
    "plt.plot(x,amp, 'go', x, fit_fnA(amp), '--g')\n",
    "plt.plot(x,oTemp, 'rp', x, fit_fnO(oTemp), '--r')\n",
    "plt.plot(x,tempC, 'yo', x, fit_fnC(tempC), '--k')\n",
    "\n",
    "plt.title(\"outC + amp + referC * linear regression\")\n",
    "\n"
   ]
  },
  {
   "cell_type": "markdown",
   "metadata": {},
   "source": [
    "# Updating graph"
   ]
  },
  {
   "cell_type": "code",
   "execution_count": null,
   "metadata": {},
   "outputs": [],
   "source": [
    "## verify that it works.\n",
    "import matplotlib.pyplot as plt\n",
    "%matplotlib notebook\n",
    "#%matplotlib inline\n",
    "import numpy as np\n",
    "import time\n",
    "fig = plt.figure()\n",
    "def pltsin(ax, colors=['b']):\n",
    "    x = np.linspace(0,1,100)\n",
    "    if ax.lines:\n",
    "        for line in ax.lines:\n",
    "            line.set_xdata(x)\n",
    "            y = np.random.random(size=(100,1))\n",
    "            line.set_ydata(y)\n",
    "    else:\n",
    "        for color in colors:\n",
    "            y = np.random.random(size=(100,1))\n",
    "            ax.plot(x, y, color)\n",
    "    fig.canvas.draw()\n",
    "\n",
    "fig,ax = plt.subplots(1,1)\n",
    "ax.set_xlabel('X')\n",
    "ax.set_ylabel('Y')\n",
    "ax.set_xlim(0,1)\n",
    "ax.set_ylim(0,1)\n",
    "for f in range(5):\n",
    "    pltsin(ax, ['b', 'r'])\n",
    "    time.sleep(1)"
   ]
  },
  {
   "cell_type": "code",
   "execution_count": null,
   "metadata": {},
   "outputs": [],
   "source": [
    "data = f.raw(\"/score\")\n"
   ]
  },
  {
   "cell_type": "code",
   "execution_count": null,
   "metadata": {},
   "outputs": [],
   "source": [
    "print(data)"
   ]
  },
  {
   "cell_type": "markdown",
   "metadata": {},
   "source": [
    "# /score/bluewater/fire - pull events from streams processing"
   ]
  },
  {
   "cell_type": "code",
   "execution_count": 6,
   "metadata": {},
   "outputs": [
    {
     "name": "stdout",
     "output_type": "stream",
     "text": [
      "len of full data 100\n",
      "[{'containerId': 'Reefer_1', 'longitude': 78.71498106, 'severity': 'fire', 'amp': 0.0, 'shipId': 'medusa', 'ts': '2018-01-01 00:00:00', 'tempC': 200.06836541092676, 'weatherC': 16.712666965534936, 'status': 'active', 'latitude': 10.76488498, 'issue': 'combustion within container', 'tag': 'container'}, {'containerId': 'Reefer_1', 'longitude': 78.71498106, 'severity': 'fire', 'amp': 0.0, 'shipId': 'medusa', 'ts': '2018-01-01 00:00:00', 'tempC': 200.06836541092676, 'weatherC': 16.712666965534936, 'status': 'active', 'latitude': 10.76488498, 'issue': 'combustion within container', 'tag': 'container'}, {'containerId': 'Reefer_1', 'longitude': 78.71498106, 'severity': 'fire', 'amp': 0.0, 'shipId': 'medusa', 'ts': '2018-01-01 00:00:00', 'tempC': 200.06836541092676, 'weatherC': 10.997362596331197, 'status': 'active', 'latitude': 10.76488498, 'issue': 'combustion within container', 'tag': 'container'}, {'containerId': 'Reefer_1', 'longitude': 78.71498106, 'severity': 'fire', 'amp': 0.0, 'shipId': 'medusa', 'ts': '2018-01-01 00:00:00', 'tempC': 200.06836541092676, 'weatherC': 10.997362596331197, 'status': 'active', 'latitude': 10.76488498, 'issue': 'combustion within container', 'tag': 'container'}, {'containerId': 'Reefer_1', 'longitude': 78.71498106, 'severity': 'fire', 'amp': 0.0, 'shipId': 'medusa', 'ts': '2018-01-01 00:00:00', 'tempC': 200.06836541092676, 'weatherC': 19.103844561433455, 'status': 'active', 'latitude': 10.76488498, 'issue': 'combustion within container', 'tag': 'container'}]\n"
     ]
    },
    {
     "data": {
      "text/plain": [
       "['fire',\n",
       " 'fire',\n",
       " 'fire',\n",
       " 'fire',\n",
       " 'fire',\n",
       " 'fire',\n",
       " 'fire',\n",
       " 'fire',\n",
       " 'fire',\n",
       " 'fire',\n",
       " 'fire',\n",
       " 'fire',\n",
       " 'fire',\n",
       " 'fire',\n",
       " 'fire',\n",
       " 'fire',\n",
       " 'fire',\n",
       " 'fire',\n",
       " 'fire',\n",
       " 'fire',\n",
       " 'fire',\n",
       " 'fire',\n",
       " 'fire',\n",
       " 'fire',\n",
       " 'fire',\n",
       " 'fire',\n",
       " 'fire',\n",
       " 'fire',\n",
       " 'fire',\n",
       " 'fire',\n",
       " 'fire',\n",
       " 'fire',\n",
       " 'fire',\n",
       " 'fire',\n",
       " 'fire',\n",
       " 'fire',\n",
       " 'fire',\n",
       " 'fire',\n",
       " 'fire',\n",
       " 'fire',\n",
       " 'fire',\n",
       " 'fire',\n",
       " 'fire',\n",
       " 'fire',\n",
       " 'fire',\n",
       " 'fire',\n",
       " 'fire',\n",
       " 'fire',\n",
       " 'fire',\n",
       " 'fire',\n",
       " 'fire',\n",
       " 'fire',\n",
       " 'fire',\n",
       " 'fire',\n",
       " 'fire',\n",
       " 'fire',\n",
       " 'fire',\n",
       " 'fire',\n",
       " 'fire',\n",
       " 'fire',\n",
       " 'fire',\n",
       " 'fire',\n",
       " 'fire',\n",
       " 'fire',\n",
       " 'fire',\n",
       " 'fire',\n",
       " 'fire',\n",
       " 'fire',\n",
       " 'fire',\n",
       " 'fire',\n",
       " 'fire',\n",
       " 'fire',\n",
       " 'fire',\n",
       " 'fire',\n",
       " 'fire',\n",
       " 'fire',\n",
       " 'fire',\n",
       " 'fire',\n",
       " 'fire',\n",
       " 'fire',\n",
       " 'fire',\n",
       " 'fire',\n",
       " 'fire',\n",
       " 'fire',\n",
       " 'fire',\n",
       " 'fire',\n",
       " 'fire',\n",
       " 'fire',\n",
       " 'fire',\n",
       " 'fire',\n",
       " 'fire',\n",
       " 'fire',\n",
       " 'fire',\n",
       " 'fire',\n",
       " 'fire',\n",
       " 'fire',\n",
       " 'fire',\n",
       " 'fire',\n",
       " 'fire',\n",
       " 'fire']"
      ]
     },
     "execution_count": 6,
     "metadata": {},
     "output_type": "execute_result"
    }
   ],
   "source": [
    "data = f.fetchValue(\"/score/bluewater/notify\")\n",
    "print(\"len of full data\", len(data))\n",
    "print(data[0:5])\n",
    "tmp = [ele['severity'] for ele in data]\n",
    "Counter()\n"
   ]
  },
  {
   "cell_type": "code",
   "execution_count": null,
   "metadata": {},
   "outputs": [],
   "source": []
  },
  {
   "cell_type": "code",
   "execution_count": null,
   "metadata": {},
   "outputs": [],
   "source": []
  }
 ],
 "metadata": {
  "kernelspec": {
   "display_name": "Python 3",
   "language": "python",
   "name": "python3"
  },
  "language_info": {
   "codemirror_mode": {
    "name": "ipython",
    "version": 3
   },
   "file_extension": ".py",
   "mimetype": "text/x-python",
   "name": "python",
   "nbconvert_exporter": "python",
   "pygments_lexer": "ipython3",
   "version": "3.5.4"
  }
 },
 "nbformat": 4,
 "nbformat_minor": 1
}
